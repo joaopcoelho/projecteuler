{
 "cells": [
  {
   "cell_type": "markdown",
   "metadata": {},
   "source": [
    "#Project Euler problem 286 (Scoring probabilities)\n",
    "\n",
    "## Problem statement\n",
    "\n",
    "Barbara is a mathematician and a basketball player. She has found that the probability of scoring a point when shooting from a distance x is exactly (1 - x/q), where q is a real constant greater than 50.\n",
    "\n",
    "During each practice run, she takes shots from distances x = 1, x = 2, ..., x = 50 and, according to her records, she has precisely a 2 % chance to score a total of exactly 20 points.\n",
    "\n",
    "Find q and give your answer rounded to 10 decimal places.\n"
   ]
  },
  {
   "cell_type": "markdown",
   "metadata": {},
   "source": [
    "##Mathematical interlude\n",
    "\n",
    "First of all I'd like to find a formula for $P(\\alpha | x )$, where $\\alpha$ is the number of points scored and $x$ is the number of shots taken (aka the number of \"available\" distances).\n",
    "\n",
    "Let's start by looking into $P(\\alpha=1 | x=50)$: \n",
    "\n",
    "\\begin{equation}\n",
    "\\begin{split}\n",
    "P(1) &= (1-\\frac{1}{q})(\\frac{2}{q})(...)(\\frac{50}{q}) \\\\ \n",
    "       & + (\\frac{1}{q})(1-\\frac{2}{q})(...)(\\frac{50}{q}) \\\\ \n",
    "       & + \\dots \\\\\n",
    "       & +(\\frac{1}{q})(\\frac{2}{q})(...)(1-\\frac{50}{q})\n",
    "\\end{split}\n",
    "\\end{equation}\n",
    "\n"
   ]
  },
  {
   "cell_type": "markdown",
   "metadata": {},
   "source": [
    "This seems to be amenable to be written as something like\n",
    "\n",
    "$$\n",
    "P(1) = \\frac{1}{q^{50}} \\sum_{k=1}^{50}\\left[(\\prod_{j=1}^{k-1} j)(q-k)(\\prod_{i=k+1}^{50}i)\\right]\n",
    "$$"
   ]
  },
  {
   "cell_type": "markdown",
   "metadata": {},
   "source": [
    "Or less sadly:\n",
    "\n",
    "$$\n",
    "P(1) = \\frac{1}{q^{50}} \\prod_{j=1}^{50}j\\sum_{k=1}^{50}\\frac{q-k}{k}\n",
    "$$"
   ]
  },
  {
   "cell_type": "markdown",
   "metadata": {},
   "source": [
    "Noting that $\\prod_{j=1}^{50}j = 50!$  and $\\frac{q-k}{k} = \\frac{q}{k}-1$, and generalizing for arbitrary number of distances $n$ (rather than 50), $P(1)$ can be finally written as\n",
    "\n",
    "$$\n",
    "P(\\alpha=1 | x=n) = \\frac{n!}{q^{n}}\\sum_{k=1}^{n}(\\frac{q}{k}-1)\n",
    "$$"
   ]
  },
  {
   "cell_type": "markdown",
   "metadata": {
    "collapsed": true
   },
   "source": [
    "Let's see what happens when we're looking for the probability of scoring (exactly) two points. This is the probability of making the first and second shots and missing all others, or making the first and third and missing all others, etc., or making the second and third and missing all others, etc., or making the 49th and 50th after having missed all others. In math:\n",
    "\n",
    "\\begin{equation}\n",
    "\\begin{split}\n",
    "P(2) &= (1-\\frac{1}{q})(1-\\frac{2}{q})(...)(\\frac{50}{q}) \\\\\n",
    "       & + (1-\\frac{1}{q})(\\frac{2}{q})(1-\\frac{3}{q})(...)(\\frac{50}{q}) \\\\ \n",
    "       & + \\dots \\\\\n",
    "       & +(1-\\frac{1}{q})(\\frac{2}{q})(...)(1-\\frac{50}{q}) \\\\\n",
    "       & + (\\frac{1}{q})(1-\\frac{2}{q})(1-\\frac{3}{q})(...)(\\frac{50}{q}) \\\\ \n",
    "       & + \\dots \\\\\n",
    "       & +(\\frac{1}{q})(1-\\frac{2}{q})(...)(1-\\frac{50}{q}) \\\\\n",
    "       & + \\dots \\\\\n",
    "       & + (\\frac{1}{q})(\\frac{2}{q})(...)(1-\\frac{49}{q})(1-\\frac{50}{q})\n",
    "\\end{split}\n",
    "\\end{equation}"
   ]
  },
  {
   "cell_type": "markdown",
   "metadata": {},
   "source": [
    "Which translates to something along the lines of\n",
    "\n",
    "\\begin{equation}\n",
    "\\begin{split}\n",
    "P(2) &= \\frac{50!}{q^{50}} \\left[ (q-1)\\sum_{k=2}^{50}\\frac{q-k}{1\\times k} + (q-2)\\sum_{k=3}^{50}\\frac{q-k}{2\\times k} + \\dots + (q-49)\\sum_{k=50}^{50}\\frac{q-k}{49\\times k}\\right] \\\\\n",
    "    &= \\frac{50!}{q^{50}} \\left( \\sum_{j=1}^{49}\\frac{q-j}{j} \\times \\left( \\sum_{k=j+1}^{50}\\frac{q-k}{k} \\right)\\right)\n",
    "\\end{split}\n",
    "\\end{equation}"
   ]
  },
  {
   "cell_type": "markdown",
   "metadata": {},
   "source": [
    "By using magical abilities this can be generalized for arbitrary $\\alpha$ and $n$ (with $n \\geq \\alpha$) as follows:\n",
    "\n",
    "$$\n",
    "P(\\alpha | n) = \\frac{n!}{q^n} \\sum_{k_1=1}^{n-(\\alpha-1)}\\frac{q-k_1}{k_1} \\sum_{k_2=k_1+1}^{n-(\\alpha-2)}\\frac{q-k_2}{k_2}\\sum_{k_3=k_2+1}^{n-(\\alpha-3)}\\frac{q-k_3}{k_3} \\dots \\sum_{k_\\alpha=k_{\\alpha-1}+1}^{n}\\frac{q-k_\\alpha}{k_\\alpha}\n",
    "$$\n",
    "\n",
    "Some comments:\n",
    "- there are exactly $\\alpha$ summation terms\n",
    "- there is probably a way of using combinatory to simplify this"
   ]
  },
  {
   "cell_type": "markdown",
   "metadata": {},
   "source": [
    "## Main event: finding $q$"
   ]
  },
  {
   "cell_type": "markdown",
   "metadata": {},
   "source": [
    "Let's start with a simple example. Let's say Barbara takes 3 shots and the probability of scoring exactly two points is $20\\%$.\n",
    "\n",
    "- $\\alpha = 2$\n",
    "- $n = 3$\n",
    "- $P(2|3) = .2$\n"
   ]
  },
  {
   "cell_type": "markdown",
   "metadata": {},
   "source": [
    "From the interlude we have\n",
    "\n",
    "$$\n",
    "P = \\frac{3!}{q^3} \\sum_{k_1=1}^{2} \\frac{q-k_1}{k_1} \\sum_{k_2=k_1+1}^{3} \\frac{q-k_2}{k_2} = 0.2\n",
    "$$\n",
    "\n",
    "and after some algebra we arrive at a nice expression that we can solve for $q$:\n",
    "\n",
    "$$\n",
    "-0.2q^3 + 3q^2 -12q + 11 = 0\n",
    "$$\n",
    "\n",
    "The bad news is that this works for $n=3$ and $n=4$, maybe $n=5$, but not further on, and we need $n=50$.\n",
    "\n",
    "So we'll need an alternative strategy."
   ]
  },
  {
   "cell_type": "markdown",
   "metadata": {},
   "source": [
    "### Trying Numpy and Scipy\n",
    "(reference: http://stackoverflow.com/questions/10457240/solving-polynomial-equations-in-python)"
   ]
  },
  {
   "cell_type": "code",
   "execution_count": 22,
   "metadata": {
    "collapsed": false
   },
   "outputs": [
    {
     "data": {
      "text/plain": [
       "array([ 9.02997548,  4.66414098,  1.30588355])"
      ]
     },
     "execution_count": 22,
     "metadata": {},
     "output_type": "execute_result"
    }
   ],
   "source": [
    "import numpy as np\n",
    "q = [-.2, 3, -12,11]\n",
    "np.roots(q)\n"
   ]
  },
  {
   "cell_type": "markdown",
   "metadata": {},
   "source": [
    "So apparently Numpy is one possible way to go. All we have to do is compute the coeffiecients for the polynomial.\n",
    "Can we use Sympy to find those?\n"
   ]
  },
  {
   "cell_type": "code",
   "execution_count": 133,
   "metadata": {
    "collapsed": false
   },
   "outputs": [],
   "source": [
    "from sympy import symbols, summation, expand\n",
    "from sympy.solvers import solve\n",
    "\n",
    "# define problem variables\n",
    "# alpha: how many points\n",
    "# n: how many shots\n",
    "\n",
    "alpha = 2\n",
    "n = 3\n",
    "\n",
    "q,k = symbols('q k')\n",
    "\n",
    "expr = (q-k)/k\n",
    "\n",
    "\n",
    "def nestsums(expr, suminit, sumend, alpha, n):\n",
    "    \n",
    "    if suminit == alpha: # ultimo termo\n",
    "        return sumq(expr, suminit, sumend)\n",
    "    else:\n",
    "        return sumq(expr, suminit, sumend) * nestsums(expr, suminit+1, sumend+1, alpha, n) #- (sumq(expr, 2,2))**2\n",
    "\n",
    "# This won't work because it keeps quadratic terms (e.g. (q-2)*(q-2))\n",
    "# We should find a way of implementing the theoretical formula\n",
    "\n",
    "def sumq(expr, k0, n):\n",
    "    return summation (expr, (k,k0,n))\n"
   ]
  },
  {
   "cell_type": "code",
   "execution_count": 134,
   "metadata": {
    "collapsed": false
   },
   "outputs": [
    {
     "name": "stdout",
     "output_type": "stream",
     "text": [
      "5*q**2/4 - 14*q/3 + 4\n"
     ]
    },
    {
     "ename": "AssertionError",
     "evalue": "",
     "output_type": "error",
     "traceback": [
      "\u001b[0;31m---------------------------------------------------------------------------\u001b[0m",
      "\u001b[0;31mAssertionError\u001b[0m                            Traceback (most recent call last)",
      "\u001b[0;32m<ipython-input-134-c918e42a06a9>\u001b[0m in \u001b[0;36m<module>\u001b[0;34m()\u001b[0m\n\u001b[1;32m     27\u001b[0m \u001b[0;34m\u001b[0m\u001b[0m\n\u001b[1;32m     28\u001b[0m \u001b[0mtest_sumq\u001b[0m\u001b[0;34m(\u001b[0m\u001b[0;34m)\u001b[0m\u001b[0;34m\u001b[0m\u001b[0m\n\u001b[0;32m---> 29\u001b[0;31m \u001b[0mtest_nestsums\u001b[0m\u001b[0;34m(\u001b[0m\u001b[0;34m)\u001b[0m\u001b[0;34m\u001b[0m\u001b[0m\n\u001b[0m",
      "\u001b[0;32m<ipython-input-134-c918e42a06a9>\u001b[0m in \u001b[0;36mtest_nestsums\u001b[0;34m()\u001b[0m\n\u001b[1;32m     24\u001b[0m     \u001b[0;32mexcept\u001b[0m \u001b[0mAssertionError\u001b[0m\u001b[0;34m:\u001b[0m\u001b[0;34m\u001b[0m\u001b[0m\n\u001b[1;32m     25\u001b[0m         \u001b[0;32mprint\u001b[0m \u001b[0mt1\u001b[0m\u001b[0;34m\u001b[0m\u001b[0m\n\u001b[0;32m---> 26\u001b[0;31m         \u001b[0;32mraise\u001b[0m \u001b[0mAssertionError\u001b[0m\u001b[0;34m\u001b[0m\u001b[0m\n\u001b[0m\u001b[1;32m     27\u001b[0m \u001b[0;34m\u001b[0m\u001b[0m\n\u001b[1;32m     28\u001b[0m \u001b[0mtest_sumq\u001b[0m\u001b[0;34m(\u001b[0m\u001b[0;34m)\u001b[0m\u001b[0;34m\u001b[0m\u001b[0m\n",
      "\u001b[0;31mAssertionError\u001b[0m: "
     ]
    }
   ],
   "source": [
    "# tests\n",
    "def test_sumq():\n",
    "    from sympy import symbols\n",
    "    q,k = symbols('q k')\n",
    "    exp = (q-k)/k\n",
    "    \n",
    "    t1 = sumq(exp, 1, 3)\n",
    "    assert t1 == (11*q-18)/6\n",
    "    t2 = sumq(exp,1,2)\n",
    "    assert t2 == (3*q/2 - 2)\n",
    "    t3 = sumq(exp,2,3)\n",
    "    assert t3 == (5*q/6-2)\n",
    "    t4 = sumq(exp,8,8)\n",
    "    assert t4 == (q/8-1)\n",
    "    \n",
    "def test_nestsums():\n",
    "    from sympy import symbols, expand\n",
    "    q,k = symbols('q k')\n",
    "    exp = (q-k)/k\n",
    "    t1 = nestsums(exp, 1, 2, 2, 3)\n",
    "    t1 = expand(t1)\n",
    "    try:\n",
    "        assert t1 == (q**2 -11*q/3 +3)\n",
    "    except AssertionError:\n",
    "        print t1\n",
    "        raise AssertionError\n",
    "                \n",
    "test_sumq()\n",
    "test_nestsums()"
   ]
  },
  {
   "cell_type": "markdown",
   "metadata": {},
   "source": [
    "### State of the art as of 19-8-2015\n",
    "I'll leave this incomplete as I can't find a way to implement the formula to obtain the coefficients for the $q^k$ terms. A solution doesn't seem to be too far, but no time to keep at it now. Hope to come back to this problem soon."
   ]
  },
  {
   "cell_type": "code",
   "execution_count": null,
   "metadata": {
    "collapsed": true
   },
   "outputs": [],
   "source": []
  }
 ],
 "metadata": {
  "kernelspec": {
   "display_name": "Python 2",
   "language": "python",
   "name": "python2"
  },
  "language_info": {
   "codemirror_mode": {
    "name": "ipython",
    "version": 2
   },
   "file_extension": ".py",
   "mimetype": "text/x-python",
   "name": "python",
   "nbconvert_exporter": "python",
   "pygments_lexer": "ipython2",
   "version": "2.7.10"
  }
 },
 "nbformat": 4,
 "nbformat_minor": 0
}

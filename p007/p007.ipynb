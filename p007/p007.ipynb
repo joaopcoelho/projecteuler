{
 "cells": [
  {
   "cell_type": "markdown",
   "metadata": {},
   "source": [
    "## project euler problem 7\n",
    "### 10001th prime"
   ]
  },
  {
   "cell_type": "code",
   "execution_count": 13,
   "metadata": {
    "collapsed": false
   },
   "outputs": [
    {
     "name": "stdout",
     "output_type": "stream",
     "text": [
      "104743\n"
     ]
    }
   ],
   "source": [
    "def getprimes(nPrimes):\n",
    "    \"\"\"\n",
    "    returns a list of nPrimes prime numbers\n",
    "    \"\"\"\n",
    "    primes = [2]\n",
    "    primecount = len(primes)\n",
    "    \n",
    "    i=3\n",
    "    while primecount < nPrimes:\n",
    "        div = [i%p for p in primes]\n",
    "        if 0 not in div:\n",
    "            primes.append(i)\n",
    "            primecount+=1\n",
    "        i+=2 #only odd numbers can be prime\n",
    "\n",
    "    return primes\n",
    "\n",
    "print getprimes(10001)[-1]"
   ]
  },
  {
   "cell_type": "code",
   "execution_count": 11,
   "metadata": {
    "collapsed": false
   },
   "outputs": [],
   "source": [
    "#tests\n",
    "def test_getprimes():\n",
    "    t1 = getprimes(6)\n",
    "    assert t1 == [2,3,5,7,11,13]\n",
    "    \n",
    "test_getprimes()"
   ]
  },
  {
   "cell_type": "code",
   "execution_count": null,
   "metadata": {
    "collapsed": true
   },
   "outputs": [],
   "source": []
  }
 ],
 "metadata": {
  "kernelspec": {
   "display_name": "Python 2",
   "language": "python",
   "name": "python2"
  },
  "language_info": {
   "codemirror_mode": {
    "name": "ipython",
    "version": 2
   },
   "file_extension": ".py",
   "mimetype": "text/x-python",
   "name": "python",
   "nbconvert_exporter": "python",
   "pygments_lexer": "ipython2",
   "version": "2.7.10"
  }
 },
 "nbformat": 4,
 "nbformat_minor": 0
}

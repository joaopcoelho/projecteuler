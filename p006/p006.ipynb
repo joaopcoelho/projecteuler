{
 "cells": [
  {
   "cell_type": "markdown",
   "metadata": {},
   "source": [
    "# Project Euler problem 6\n",
    "## Sum square difference\n",
    "\n",
    "Find the difference between the sum of the squares of the first one hundred natural numbers and the square of the sum."
   ]
  },
  {
   "cell_type": "code",
   "execution_count": 16,
   "metadata": {
    "collapsed": false
   },
   "outputs": [
    {
     "data": {
      "text/plain": [
       "25164150"
      ]
     },
     "execution_count": 16,
     "metadata": {},
     "output_type": "execute_result"
    }
   ],
   "source": [
    "def sumsquares(maxN):\n",
    "    soma=0\n",
    "    for x in xrange(0,maxN+1):\n",
    "        soma += x**2\n",
    "    return soma\n",
    "\n",
    "def squaresum(maxN):\n",
    "    soma=0\n",
    "    soma = sum(range(1,maxN+1))\n",
    "    return soma**2\n",
    "\n",
    "def diff_sumsquares_squaresum(maxN):\n",
    "    return squaresum(maxN) - sumsquares(maxN) \n",
    "\n",
    "diff_sumsquares_squaresum(100)"
   ]
  },
  {
   "cell_type": "code",
   "execution_count": null,
   "metadata": {
    "collapsed": true
   },
   "outputs": [],
   "source": []
  }
 ],
 "metadata": {
  "kernelspec": {
   "display_name": "Python 2",
   "language": "python",
   "name": "python2"
  },
  "language_info": {
   "codemirror_mode": {
    "name": "ipython",
    "version": 2
   },
   "file_extension": ".py",
   "mimetype": "text/x-python",
   "name": "python",
   "nbconvert_exporter": "python",
   "pygments_lexer": "ipython2",
   "version": "2.7.10"
  }
 },
 "nbformat": 4,
 "nbformat_minor": 0
}
